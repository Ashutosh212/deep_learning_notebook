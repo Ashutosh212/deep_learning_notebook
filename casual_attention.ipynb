{
 "cells": [
  {
   "cell_type": "code",
   "execution_count": 2,
   "metadata": {},
   "outputs": [],
   "source": [
    "import torch\n",
    "import torch.nn as nn"
   ]
  },
  {
   "cell_type": "markdown",
   "metadata": {},
   "source": [
    "## Playing with nn.Dropout"
   ]
  },
  {
   "cell_type": "code",
   "execution_count": 12,
   "metadata": {},
   "outputs": [],
   "source": [
    "dropout = nn.Dropout(p=0.5)"
   ]
  },
  {
   "cell_type": "code",
   "execution_count": 16,
   "metadata": {},
   "outputs": [],
   "source": [
    "input = torch.rand(6,6)"
   ]
  },
  {
   "cell_type": "code",
   "execution_count": 17,
   "metadata": {},
   "outputs": [
    {
     "data": {
      "text/plain": [
       "tensor([[0.5615, 0.4451, 0.2669, 0.2333, 0.4857, 0.2484],\n",
       "        [0.6900, 0.2211, 0.8846, 0.7803, 0.5993, 0.3093],\n",
       "        [0.8048, 0.6307, 0.9297, 0.0072, 0.2327, 0.5284],\n",
       "        [0.8300, 0.1190, 0.3450, 0.4250, 0.8378, 0.9796],\n",
       "        [0.4211, 0.4509, 0.1264, 0.7267, 0.9654, 0.5539],\n",
       "        [0.9365, 0.5828, 0.7313, 0.4985, 0.6818, 0.7144]])"
      ]
     },
     "execution_count": 17,
     "metadata": {},
     "output_type": "execute_result"
    }
   ],
   "source": [
    "input"
   ]
  },
  {
   "cell_type": "code",
   "execution_count": 18,
   "metadata": {},
   "outputs": [
    {
     "data": {
      "text/plain": [
       "tensor([[0.0000, 0.8901, 0.5339, 0.0000, 0.9714, 0.4967],\n",
       "        [1.3800, 0.4423, 1.7692, 1.5606, 0.0000, 0.6186],\n",
       "        [1.6095, 0.0000, 1.8594, 0.0144, 0.4654, 1.0568],\n",
       "        [0.0000, 0.0000, 0.0000, 0.8500, 1.6755, 0.0000],\n",
       "        [0.0000, 0.0000, 0.0000, 0.0000, 0.0000, 1.1079],\n",
       "        [1.8730, 1.1657, 0.0000, 0.9969, 1.3636, 0.0000]])"
      ]
     },
     "execution_count": 18,
     "metadata": {},
     "output_type": "execute_result"
    }
   ],
   "source": [
    "dropout(input)"
   ]
  },
  {
   "cell_type": "markdown",
   "metadata": {},
   "source": [
    "## Casual Attention class"
   ]
  },
  {
   "cell_type": "code",
   "execution_count": null,
   "metadata": {},
   "outputs": [],
   "source": [
    "class CasualAttention(nn.Module):\n",
    "    def __init__(self, d_in, d_out, dropout, context_length):\n",
    "        super().__init__()\n",
    "        self.W_query = nn.Linear(d_in, d_out, bias=False)\n",
    "        self.W_key = nn.Linear(d_in, d_out, bias=False)\n",
    "        self.W_value = nn.Linear(d_in, d_out, bias=False)\n",
    "        self.dropout = nn.Dropout(dropout)\n",
    "        self.register_buffer('mask', torch.triu(torch.ones(context_length, context_length), diagonal=1))\n",
    "\n",
    "    def forward(self, x):\n",
    "        b, tokens, d_in = x.shape\n",
    "        x_q = self.W_query(x)\n",
    "        x_k = self.W_key(x)\n",
    "        x_v = self.W_value(x)\n",
    "\n",
    "        attn_scores = x_q @ x_k.transpose(1,2)\n",
    "        attn_scores.masked_fill_(self.mask.bool(), -torch.inf)\n",
    "\n",
    "        attn_weight = torch.softmax(attn_scores / x_k.shape[-1]**0.5, dim=-1)\n",
    "        print(attn_weight)\n",
    "\n",
    "        attn_weight_dropout = self.dropout(attn_weight)\n",
    "\n",
    "        context_vec = attn_weight_dropout @ x_v\n",
    "        return context_vec"
   ]
  },
  {
   "cell_type": "code",
   "execution_count": 60,
   "metadata": {},
   "outputs": [
    {
     "name": "stdout",
     "output_type": "stream",
     "text": [
      "tensor([[[1.0000, 0.0000, 0.0000, 0.0000, 0.0000],\n",
      "         [0.6796, 0.3204, 0.0000, 0.0000, 0.0000],\n",
      "         [0.4944, 0.2727, 0.2329, 0.0000, 0.0000],\n",
      "         [0.1987, 0.2550, 0.1263, 0.4200, 0.0000],\n",
      "         [0.1705, 0.1604, 0.4521, 0.0621, 0.1549]],\n",
      "\n",
      "        [[1.0000, 0.0000, 0.0000, 0.0000, 0.0000],\n",
      "         [0.7893, 0.2107, 0.0000, 0.0000, 0.0000],\n",
      "         [0.2941, 0.2640, 0.4419, 0.0000, 0.0000],\n",
      "         [0.3541, 0.2514, 0.1877, 0.2068, 0.0000],\n",
      "         [0.1530, 0.1474, 0.2505, 0.2418, 0.2072]]],\n",
      "       grad_fn=<SoftmaxBackward0>)\n",
      "tensor([[[ 0.0000,  0.0000],\n",
      "         [ 0.1998, -0.5034],\n",
      "         [ 0.1700, -0.4284],\n",
      "         [ 0.8279,  0.1842],\n",
      "         [ 0.3108, -0.1971]],\n",
      "\n",
      "        [[ 0.0000,  0.0000],\n",
      "         [ 1.3091,  1.6676],\n",
      "         [-0.0162,  0.4568],\n",
      "         [ 0.1576, -0.6356],\n",
      "         [-0.1655, -0.5785]]], grad_fn=<UnsafeViewBackward0>)\n"
     ]
    }
   ],
   "source": [
    "input = torch.randn(2,5,4)\n",
    "d_in = 4\n",
    "d_out = 2\n",
    "ca = CasualAttention(d_in=d_in, d_out=d_out, dropout=0.5, context_length=5)\n",
    "\n",
    "result = ca(input)\n",
    "print(result)"
   ]
  },
  {
   "cell_type": "code",
   "execution_count": null,
   "metadata": {},
   "outputs": [],
   "source": []
  }
 ],
 "metadata": {
  "kernelspec": {
   "display_name": "sam_finetune",
   "language": "python",
   "name": "python3"
  },
  "language_info": {
   "codemirror_mode": {
    "name": "ipython",
    "version": 3
   },
   "file_extension": ".py",
   "mimetype": "text/x-python",
   "name": "python",
   "nbconvert_exporter": "python",
   "pygments_lexer": "ipython3",
   "version": "3.13.2"
  }
 },
 "nbformat": 4,
 "nbformat_minor": 2
}
