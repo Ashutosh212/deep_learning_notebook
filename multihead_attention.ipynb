{
 "cells": [
  {
   "cell_type": "code",
   "execution_count": 2,
   "metadata": {},
   "outputs": [],
   "source": [
    "import torch \n",
    "import torch.nn as nn"
   ]
  },
  {
   "cell_type": "code",
   "execution_count": 23,
   "metadata": {},
   "outputs": [],
   "source": [
    "class MultiHeadAttn(nn.Module):\n",
    "    def __init__(self, d_in, d_out, num_head, dropout, context_length):\n",
    "        super().__init__()\n",
    "        self.d_out = d_out\n",
    "        self.w_query = nn.Linear(d_in, d_out, bias=False)\n",
    "        self.w_key = nn.Linear(d_in, d_out, bias=False)\n",
    "        self.w_value = nn.Linear(d_in, d_out, bias=False)\n",
    "        self.out_proj = nn.Linear(d_out, d_out, bias=False)\n",
    "        self.num_head = num_head\n",
    "\n",
    "        self.dropout = nn.Dropout(p=dropout)\n",
    "\n",
    "        self.head_dim = d_out // num_head\n",
    "        self.register_buffer('mask', torch.triu(torch.ones(context_length, context_length), diagonal=1))\n",
    "\n",
    "    def forward(self, x):\n",
    "        batch, num_token, d_in = x.shape\n",
    "\n",
    "        key = self.w_key(x)\n",
    "        query = self.w_query(x)\n",
    "        value = self.w_value(x)\n",
    "\n",
    "        key = key.view(batch, num_token, self.num_head, self.head_dim)\n",
    "        query = query.view(batch, num_token, self.num_head, self.head_dim)\n",
    "        value = value.view(batch, num_token, self.num_head, self.head_dim)\n",
    "\n",
    "        key = key.transpose(1,2)\n",
    "        query = query.transpose(1,2)\n",
    "        value = value.transpose(1,2)\n",
    "\n",
    "        attn_scores = query @ key.transpose(2,3)\n",
    "\n",
    "        attn_scores.masked_fill_(self.mask.bool(), -torch.inf)\n",
    "\n",
    "        attn_weight = torch.softmax(attn_scores / key.shape[-1]**0.5, dim=-1)\n",
    "        # print(attn_weight)\n",
    "\n",
    "        attn_weight_dropout = self.dropout(attn_weight)\n",
    "\n",
    "        context_vec = (attn_weight_dropout @ value).transpose(1,2)\n",
    "\n",
    "        context_vec = context_vec.contiguous().view(batch, num_token, self.d_out)\n",
    "\n",
    "        context_vec = self.out_proj(context_vec)\n",
    "        return context_vec\n",
    "\n",
    "        \n",
    "\n"
   ]
  },
  {
   "cell_type": "code",
   "execution_count": 24,
   "metadata": {},
   "outputs": [],
   "source": [
    "x = torch.rand(2,3,5)\n",
    "mha = MultiHeadAttn(5, 6, 2, 0.5, 3)"
   ]
  },
  {
   "cell_type": "code",
   "execution_count": 25,
   "metadata": {},
   "outputs": [
    {
     "data": {
      "text/plain": [
       "torch.Size([2, 3, 6])"
      ]
     },
     "execution_count": 25,
     "metadata": {},
     "output_type": "execute_result"
    }
   ],
   "source": [
    "y = mha(x)\n",
    "y.shape"
   ]
  },
  {
   "cell_type": "code",
   "execution_count": null,
   "metadata": {},
   "outputs": [],
   "source": []
  }
 ],
 "metadata": {
  "kernelspec": {
   "display_name": "sam_finetune",
   "language": "python",
   "name": "python3"
  },
  "language_info": {
   "codemirror_mode": {
    "name": "ipython",
    "version": 3
   },
   "file_extension": ".py",
   "mimetype": "text/x-python",
   "name": "python",
   "nbconvert_exporter": "python",
   "pygments_lexer": "ipython3",
   "version": "3.13.2"
  }
 },
 "nbformat": 4,
 "nbformat_minor": 2
}
